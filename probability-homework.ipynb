{
 "cells": [
  {
   "cell_type": "code",
   "execution_count": null,
   "metadata": {},
   "outputs": [],
   "source": [
    "%load_ext autoreload\n",
    "%autoreload 2\n",
    "\n",
    "%matplotlib inline"
   ]
  },
  {
   "cell_type": "markdown",
   "metadata": {},
   "source": [
    "## Basic setup"
   ]
  },
  {
   "cell_type": "markdown",
   "metadata": {},
   "source": [
    "Create anaconda environment\n",
    "<br>\n",
    "```bash\n",
    "conda create -n ml python=3.7.4 jupyter\n",
    "```\n",
    "Install fastai library\n",
    "<br>\n",
    "```bash\n",
    "conda install -c pytorch -c fastai fastai\n",
    "```"
   ]
  },
  {
   "cell_type": "markdown",
   "metadata": {},
   "source": [
    "# Sigma-algebras"
   ]
  },
  {
   "cell_type": "markdown",
   "metadata": {},
   "source": [
    "#### Prove that:\n",
    "Composition of mesurable functions is a mesurable function"
   ]
  },
  {
   "cell_type": "markdown",
   "metadata": {},
   "source": [
    "Let $(X, E_1), (Y, E_2),(Z, E_3)$ measurable spaces\n",
    "<br>\n",
    "Let functions $f: (X, E_1) \\to (Y, E_2)$ and $g: (Y, E_2) \\to (Z, E_3)$ are measurable\n",
    "<br>\n",
    "Lt $ S \\in E_3 $ is measurable subset\n",
    "<br>\n",
    "$(g \\circ f)^{-1} (S) = f^{-1}(g^{-1}(S))$\n",
    "<br>\n",
    "$g^{-1}(S) = S_1 \\in E_2$ because g is measurable\n",
    "<br>\n",
    "$f^{-1}(S_1) = S_2 \\in E_1$ because f is measurable\n",
    "<br>\n",
    "$f^{-1}(g^{-1}(S) \\in E_1$\n",
    "<br>\n",
    "$\\blacksquare$\n"
   ]
  },
  {
   "cell_type": "markdown",
   "metadata": {},
   "source": [
    "## Mesure"
   ]
  },
  {
   "cell_type": "markdown",
   "metadata": {},
   "source": [
    "#### Prove the following mesure properties:\n",
    "- if $A \\subset B$ then $\\mu(A) \\le \\mu(B)$\n",
    "<br>\n",
    "Proof: $(B - A) \\cup (A \\cap B) = (B - A) \\cup A = B$ and $(B - A) \\cap (A \\cap B) = \\emptyset$ so $\\mu((B - A) \\cup (A \\cap B)) = \\mu(B - A) + \\mu(A \\cap B) = \\mu(B - A) + \\mu(A) = \\mu(B)$ so $\\mu(A) \\le \\mu(B)$"
   ]
  },
  {
   "cell_type": "markdown",
   "metadata": {},
   "source": [
    "## Probability"
   ]
  },
  {
   "cell_type": "markdown",
   "metadata": {},
   "source": [
    "#### Prove that:\n",
    "For probability mesure $P$ and events $A, B, C \\subset \\Omega$\n",
    "- $P(A \\cup B) = P(A) + P(B) - P(A \\cap B)$\n",
    "<br>\n",
    "\n",
    "$A \\cup B = (A- B) \\cup (A \\cap B) \\cup (B-A)$\n",
    "<br>\n",
    "$P (A \\cup B ) = P(A- B) + P(A \\cap B) + P(B - A)$\n",
    "<br>\n",
    "$P (A-B)= P(A) - P(A \\cap B)$\n",
    "<br>\n",
    "$P (B-A)= P(B)- P(A \\cap B)$\n",
    "<br>\n",
    "$P (A \\cup B ) = P(A) - P(A \\cap B) +  P(A \\cap B) + P(B)- P(A \\cap B)$\n",
    "<br>\n",
    "$P (A \\cup B ) = P(A) +  P(B) - P(A \\cap B)$\n",
    "<br>\n",
    "$\\blacksquare$"
   ]
  },
  {
   "cell_type": "markdown",
   "metadata": {},
   "source": [
    "## Random variable"
   ]
  },
  {
   "cell_type": "markdown",
   "metadata": {},
   "source": [
    "#### Prove that:\n",
    "$$\n",
    "\\sigma^2 = \\operatorname{E}[X^2] - (\\operatorname{E}[X])^2\n",
    "$$\n",
    "Assuming that expectation exists\n",
    "<br>\n",
    "Denoted by $\\sigma^2$\n",
    "<br>\n",
    "$\\sigma^2 = \\operatorname{E}[(X-E[X])^2]$\n",
    "<br>\n",
    "$\\sigma^2 = \\operatorname{E}[(X^2-2X\\operatorname{E}[X] + E[X])^2]$\n",
    "<br>\n",
    "$\\sigma^2 = \\operatorname{E}[X^2]-2\\operatorname{E}[X\\operatorname{E}[X]] + \\operatorname{E}[X])^2$\n",
    "<br>\n",
    "$\\sigma^2 = \\operatorname{E}[X^2]-2\\operatorname{E}[X]\\operatorname{E}[X] + \\operatorname{E}[X])^2$\n",
    "<br>\n",
    "$\\sigma^2 = \\operatorname{E}[X^2] - \\operatorname{E}[X]^2$\n",
    "<br>\n",
    "$\\blacksquare$"
   ]
  },
  {
   "cell_type": "code",
   "execution_count": null,
   "metadata": {},
   "outputs": [],
   "source": []
  }
 ],
 "metadata": {
  "kernelspec": {
   "display_name": "Python 3",
   "language": "python",
   "name": "python3"
  },
  "language_info": {
   "codemirror_mode": {
    "name": "ipython",
    "version": 3
   },
   "file_extension": ".py",
   "mimetype": "text/x-python",
   "name": "python",
   "nbconvert_exporter": "python",
   "pygments_lexer": "ipython3",
   "version": "3.7.4"
  }
 },
 "nbformat": 4,
 "nbformat_minor": 4
}
